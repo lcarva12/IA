{
  "nbformat": 4,
  "nbformat_minor": 0,
  "metadata": {
    "colab": {
      "provenance": []
    },
    "kernelspec": {
      "name": "python3",
      "display_name": "Python 3"
    },
    "language_info": {
      "name": "python"
    },
    "accelerator": "GPU",
    "gpuClass": "standard",
    "widgets": {
      "application/vnd.jupyter.widget-state+json": {
        "bb91224e5ac847e1adbedd97ba763ba9": {
          "model_module": "@jupyter-widgets/controls",
          "model_name": "IntSliderModel",
          "model_module_version": "1.5.0",
          "state": {
            "_dom_classes": [],
            "_model_module": "@jupyter-widgets/controls",
            "_model_module_version": "1.5.0",
            "_model_name": "IntSliderModel",
            "_view_count": null,
            "_view_module": "@jupyter-widgets/controls",
            "_view_module_version": "1.5.0",
            "_view_name": "IntSliderView",
            "continuous_update": true,
            "description": "Número de propriedades:",
            "description_tooltip": null,
            "disabled": false,
            "layout": "IPY_MODEL_f6b1bace482a43d38ab167bb6d9c1ab0",
            "max": 21611,
            "min": 1,
            "orientation": "horizontal",
            "readout": true,
            "readout_format": "d",
            "step": 1,
            "style": "IPY_MODEL_499f94573cd74814a9b125c16303ccb4",
            "value": 21611
          }
        },
        "f6b1bace482a43d38ab167bb6d9c1ab0": {
          "model_module": "@jupyter-widgets/base",
          "model_name": "LayoutModel",
          "model_module_version": "1.2.0",
          "state": {
            "_model_module": "@jupyter-widgets/base",
            "_model_module_version": "1.2.0",
            "_model_name": "LayoutModel",
            "_view_count": null,
            "_view_module": "@jupyter-widgets/base",
            "_view_module_version": "1.2.0",
            "_view_name": "LayoutView",
            "align_content": null,
            "align_items": null,
            "align_self": null,
            "border": null,
            "bottom": null,
            "display": null,
            "flex": null,
            "flex_flow": null,
            "grid_area": null,
            "grid_auto_columns": null,
            "grid_auto_flow": null,
            "grid_auto_rows": null,
            "grid_column": null,
            "grid_gap": null,
            "grid_row": null,
            "grid_template_areas": null,
            "grid_template_columns": null,
            "grid_template_rows": null,
            "height": null,
            "justify_content": null,
            "justify_items": null,
            "left": null,
            "margin": null,
            "max_height": null,
            "max_width": null,
            "min_height": null,
            "min_width": null,
            "object_fit": null,
            "object_position": null,
            "order": null,
            "overflow": null,
            "overflow_x": null,
            "overflow_y": null,
            "padding": null,
            "right": null,
            "top": null,
            "visibility": null,
            "width": null
          }
        },
        "499f94573cd74814a9b125c16303ccb4": {
          "model_module": "@jupyter-widgets/controls",
          "model_name": "SliderStyleModel",
          "model_module_version": "1.5.0",
          "state": {
            "_model_module": "@jupyter-widgets/controls",
            "_model_module_version": "1.5.0",
            "_model_name": "SliderStyleModel",
            "_view_count": null,
            "_view_module": "@jupyter-widgets/base",
            "_view_module_version": "1.2.0",
            "_view_name": "StyleView",
            "description_width": "",
            "handle_color": null
          }
        },
        "c6cca04f497543558bcfe86785aaa19e": {
          "model_module": "@jupyter-widgets/controls",
          "model_name": "ButtonModel",
          "model_module_version": "1.5.0",
          "state": {
            "_dom_classes": [],
            "_model_module": "@jupyter-widgets/controls",
            "_model_module_version": "1.5.0",
            "_model_name": "ButtonModel",
            "_view_count": null,
            "_view_module": "@jupyter-widgets/controls",
            "_view_module_version": "1.5.0",
            "_view_name": "ButtonView",
            "button_style": "",
            "description": "Atualizar mapa",
            "disabled": false,
            "icon": "",
            "layout": "IPY_MODEL_0349998a4fda459ba3b0f6e917c7eb96",
            "style": "IPY_MODEL_4a4f152ed4c34e088b51a85cc86cb900",
            "tooltip": ""
          }
        },
        "0349998a4fda459ba3b0f6e917c7eb96": {
          "model_module": "@jupyter-widgets/base",
          "model_name": "LayoutModel",
          "model_module_version": "1.2.0",
          "state": {
            "_model_module": "@jupyter-widgets/base",
            "_model_module_version": "1.2.0",
            "_model_name": "LayoutModel",
            "_view_count": null,
            "_view_module": "@jupyter-widgets/base",
            "_view_module_version": "1.2.0",
            "_view_name": "LayoutView",
            "align_content": null,
            "align_items": null,
            "align_self": null,
            "border": null,
            "bottom": null,
            "display": null,
            "flex": null,
            "flex_flow": null,
            "grid_area": null,
            "grid_auto_columns": null,
            "grid_auto_flow": null,
            "grid_auto_rows": null,
            "grid_column": null,
            "grid_gap": null,
            "grid_row": null,
            "grid_template_areas": null,
            "grid_template_columns": null,
            "grid_template_rows": null,
            "height": null,
            "justify_content": null,
            "justify_items": null,
            "left": null,
            "margin": null,
            "max_height": null,
            "max_width": null,
            "min_height": null,
            "min_width": null,
            "object_fit": null,
            "object_position": null,
            "order": null,
            "overflow": null,
            "overflow_x": null,
            "overflow_y": null,
            "padding": null,
            "right": null,
            "top": null,
            "visibility": null,
            "width": null
          }
        },
        "4a4f152ed4c34e088b51a85cc86cb900": {
          "model_module": "@jupyter-widgets/controls",
          "model_name": "ButtonStyleModel",
          "model_module_version": "1.5.0",
          "state": {
            "_model_module": "@jupyter-widgets/controls",
            "_model_module_version": "1.5.0",
            "_model_name": "ButtonStyleModel",
            "_view_count": null,
            "_view_module": "@jupyter-widgets/base",
            "_view_module_version": "1.2.0",
            "_view_name": "StyleView",
            "button_color": null,
            "font_weight": ""
          }
        }
      }
    }
  },
  "cells": [
    {
      "cell_type": "code",
      "source": [
        "import pandas as pd\n",
        "import zipfile\n",
        "import numpy as np"
      ],
      "metadata": {
        "id": "UJTntRZSa774"
      },
      "execution_count": null,
      "outputs": []
    },
    {
      "cell_type": "code",
      "source": [
        "from google.colab import drive\n",
        "drive.mount('/content/drive')"
      ],
      "metadata": {
        "id": "VUiYdIq1ila2"
      },
      "execution_count": null,
      "outputs": []
    },
    {
      "cell_type": "code",
      "source": [
        "zf = zipfile.ZipFile('/content/drive/MyDrive/Data/House_Sale/House_Sale.zip')  #aloca o arquivo zip\n",
        "\n",
        "dataMapa = pd.read_csv(zf.open('kc_house_data.csv')) # abre o arquivo CSV 'train.csv' presente dentro do ZIP\n",
        "\n",
        "dataMapa = dataMapa.drop(['id', 'date'], axis=1) # remove a coluna de IDs\n",
        "\n",
        "dataMapa = dataMapa.drop([10, 17])\n",
        "\n",
        "dataMapa.head()"
      ],
      "metadata": {
        "id": "PXDsKymDOYx1"
      },
      "execution_count": null,
      "outputs": []
    },
    {
      "cell_type": "code",
      "source": [
        "dataFinal = pd.read_csv(open('/content/drive/MyDrive/Colab Notebooks/data_new_price.csv')) # abre o arquivo CSV 'train.csv' presente dentro do ZIP"
      ],
      "metadata": {
        "id": "48erD9P-NQax"
      },
      "execution_count": null,
      "outputs": []
    },
    {
      "cell_type": "code",
      "source": [
        "dataFinal.head()"
      ],
      "metadata": {
        "id": "-v9jnItfO6Tf"
      },
      "execution_count": null,
      "outputs": []
    },
    {
      "cell_type": "code",
      "source": [
        "dataMapa[\"new_price\"] = dataFinal[\"new_price\"]"
      ],
      "metadata": {
        "id": "IWEi-bYMOOy-"
      },
      "execution_count": null,
      "outputs": []
    },
    {
      "cell_type": "code",
      "source": [
        "dataMapa.head()"
      ],
      "metadata": {
        "id": "ZMW5UfrdPEdt"
      },
      "execution_count": null,
      "outputs": []
    },
    {
      "cell_type": "code",
      "source": [
        "dataMapa[\"diff\"] = dataMapa[\"new_price\"] - dataMapa[\"price\"]"
      ],
      "metadata": {
        "id": "ixCH2PBpPIsR"
      },
      "execution_count": null,
      "outputs": []
    },
    {
      "cell_type": "code",
      "source": [
        "dataMapa.head()"
      ],
      "metadata": {
        "id": "7yzHe1RrPb-F"
      },
      "execution_count": null,
      "outputs": []
    },
    {
      "cell_type": "code",
      "source": [
        "print(dataMapa.columns)"
      ],
      "metadata": {
        "id": "dyk_xf0mP3-w"
      },
      "execution_count": null,
      "outputs": []
    },
    {
      "cell_type": "code",
      "source": [
        "dataMapa.shape"
      ],
      "metadata": {
        "id": "Opc7cQD0P6AA"
      },
      "execution_count": null,
      "outputs": []
    },
    {
      "cell_type": "code",
      "source": [
        "!pip install -U ipyleaflet"
      ],
      "metadata": {
        "id": "feXK-9bF6ROV"
      },
      "execution_count": null,
      "outputs": []
    },
    {
      "cell_type": "code",
      "source": [
        "#Importar as bibliotecas necessárias\n",
        "import pandas as pd\n",
        "import numpy as np\n",
        "import folium\n",
        "from folium.plugins import MarkerCluster, HeatMap\n",
        "from IPython.display import display\n",
        "import ipywidgets as widgets\n",
        "\n",
        "#Criar o mapa de King County\n",
        "king_county = [47.5480, -121.9836]\n",
        "m = folium.Map(location=king_county, zoom_start=9)\n",
        "\n",
        "#Função para adicionar as propriedades ao mapa\n",
        "def add_properties(n_samples):\n",
        "    #Selecionar aleatoriamente algumas propriedades\n",
        "    return dataMapa.sample(n_samples)\n",
        "\n",
        "#Criar o cluster de marcadores para mostrar as casas individuais\n",
        "marker_cluster = MarkerCluster()\n",
        "properties = add_properties(n_samples_widget.value)\n",
        "for index, row in properties.iterrows():\n",
        "    popup_text = f'Preço: ${row[\"price\"]}<br>'\n",
        "    popup_text += f'Quartos: {row[\"bedrooms\"]}<br>'\n",
        "    popup_text += f'Banheiros: {row[\"bathrooms\"]}<br>'\n",
        "    popup_text += f'Área: {row[\"sqft_living\"]} ft²<br>'\n",
        "    popup_text += f'Lote: {row[\"sqft_lot\"]} ft²<br>'\n",
        "    popup_text += f'Andares: {row[\"floors\"]}<br>'\n",
        "    popup_text += f'Beira-mar: {\"Sim\" if row[\"waterfront\"] == 1 else \"Não\"}<br>'\n",
        "    popup_text += f'Vista: {row[\"view\"]}<br>'\n",
        "    popup_text += f'Condição: {row[\"condition\"]}<br>'\n",
        "    popup_text += f'Classificação: {row[\"grade\"]}<br>'\n",
        "    popup_text += f'Área (acima do solo): {row[\"sqft_above\"]} ft²<br>'\n",
        "    popup_text += f'Área (sótão): {row[\"sqft_basement\"]} ft²<br>'\n",
        "    popup_text += f'Ano de construção: {row[\"yr_built\"]}<br>'\n",
        "    popup_text += f'Ano de reforma: {row[\"yr_renovated\"]}<br>'\n",
        "    popup_text += f'Código postal: {row[\"zipcode\"]}<br>'\n",
        "    popup_text += f'Área (vizinhança): {row[\"sqft_living15\"]} ft²<br>'\n",
        "    popup_text += f'Lote (vizinhança): {row[\"sqft_lot15\"]} ft²<br>'\n",
        "    popup_text += f'Preço estimado: ${row[\"new_price\"]}<br>'\n",
        "    popup_text += f'Diferença: ${row[\"diff\"]}'\n",
        "    folium.Marker([row['lat'], row['long']], popup=popup_text).add_to(marker_cluster)\n",
        "\n",
        "#Adicionar o cluster de marcadores ao mapa\n",
        "m.add_child(marker_cluster)\n",
        "\n",
        "# Criar o Heatmap utilizando o atributo dt_diff\n",
        "heat_data = dataMapa[['lat', 'long', 'diff']].dropna()\n",
        "# Remover as linhas com valores nulos\n",
        "heat_data.dropna(inplace=True)\n",
        "# Plotar o mapa de calor\n",
        "m.add_child(folium.plugins.HeatMap(heat_data, radius=15))\n",
        "\n",
        "#Criar o slider para escolher a quantidade de propriedades\n",
        "n_samples_widget = widgets.IntSlider(value=21611, min=1, max=len(dataMapa), step=1, description='Número de propriedades:')\n",
        "display(n_samples_widget)\n",
        "\n",
        "#Criar o botão para atualizar o mapa\n",
        "update_button = widgets.Button(description='Atualizar mapa')\n",
        "display(update_button)\n",
        "\n",
        "#Definir a função que será chamada ao clicar no botão \"Atualizar mapa\"\n",
        "\n",
        "def update_map(b):\n",
        "    # Limpar o mapa atual\n",
        "    for layer in list(m._layers):\n",
        "        m.remove_layer(layer)\n",
        "\n",
        "# Adicionar as propriedades selecionadas ao mapa\n",
        "n_samples = n_samples_widget.value\n",
        "add_properties(n_samples)\n",
        "\n",
        "#Adicionar a função de atualização ao botão\n",
        "update_button.on_click(update_map)\n",
        "\n",
        "#Mostrar o mapa inicial\n",
        "add_properties(n_samples_widget.value)\n",
        "display(m)\n",
        "\n",
        "# Salvar o mapa como um arquivo HTML\n",
        "m.save('/content/drive/MyDrive/Colab Notebooks/mapa_interativo.html')\n"
      ],
      "metadata": {
        "colab": {
          "base_uri": "https://localhost:8080/",
          "height": 81,
          "referenced_widgets": [
            "bb91224e5ac847e1adbedd97ba763ba9",
            "f6b1bace482a43d38ab167bb6d9c1ab0",
            "499f94573cd74814a9b125c16303ccb4",
            "c6cca04f497543558bcfe86785aaa19e",
            "0349998a4fda459ba3b0f6e917c7eb96",
            "4a4f152ed4c34e088b51a85cc86cb900"
          ]
        },
        "id": "zYXJdmhj717a",
        "outputId": "bed86407-07df-493c-f94c-3cf14052ffc4"
      },
      "execution_count": null,
      "outputs": [
        {
          "output_type": "display_data",
          "data": {
            "text/plain": [
              "IntSlider(value=21611, description='Número de propriedades:', max=21611, min=1)"
            ],
            "application/vnd.jupyter.widget-view+json": {
              "version_major": 2,
              "version_minor": 0,
              "model_id": "bb91224e5ac847e1adbedd97ba763ba9"
            }
          },
          "metadata": {}
        },
        {
          "output_type": "display_data",
          "data": {
            "text/plain": [
              "Button(description='Atualizar mapa', style=ButtonStyle())"
            ],
            "application/vnd.jupyter.widget-view+json": {
              "version_major": 2,
              "version_minor": 0,
              "model_id": "c6cca04f497543558bcfe86785aaa19e"
            }
          },
          "metadata": {}
        }
      ]
    }
  ]
}